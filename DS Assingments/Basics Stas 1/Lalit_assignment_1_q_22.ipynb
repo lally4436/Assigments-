{
  "nbformat": 4,
  "nbformat_minor": 0,
  "metadata": {
    "colab": {
      "provenance": []
    },
    "kernelspec": {
      "name": "python3",
      "display_name": "Python 3"
    },
    "language_info": {
      "name": "python"
    }
  },
  "cells": [
    {
      "cell_type": "code",
      "source": [
        "from scipy.stats import norm\n",
        "\n",
        "# Function to calculate Z-score for a given confidence level\n",
        "def calculate_z_score(confidence_level):\n",
        "    # Calculate the area between the mean and the confidence interval\n",
        "    area_between = (1 + confidence_level) / 2\n",
        "\n",
        "    # Get the Z-score for the calculated area\n",
        "    z_score = norm.ppf(area_between)\n",
        "\n",
        "    return z_score\n",
        "\n",
        "# List of confidence levels\n",
        "confidence_levels = [0.90, 0.94, 0.60]\n",
        "\n",
        "# Calculate and print Z-scores for each confidence level\n",
        "for confidence_level in confidence_levels:\n",
        "    z_score = calculate_z_score(confidence_level)\n",
        "    print(f\"For {confidence_level * 100}% confidence interval, Z-score is approximately: {z_score:.4f}\")\n"
      ],
      "metadata": {
        "colab": {
          "base_uri": "https://localhost:8080/"
        },
        "id": "ful8Ke9BybMO",
        "outputId": "5ffb9b6b-e8b5-4689-d6d8-9951a0fbee15"
      },
      "execution_count": 1,
      "outputs": [
        {
          "output_type": "stream",
          "name": "stdout",
          "text": [
            "For 90.0% confidence interval, Z-score is approximately: 1.6449\n",
            "For 94.0% confidence interval, Z-score is approximately: 1.8808\n",
            "For 60.0% confidence interval, Z-score is approximately: 0.8416\n"
          ]
        }
      ]
    },
    {
      "cell_type": "code",
      "source": [],
      "metadata": {
        "id": "U4gCgVJwybIr"
      },
      "execution_count": null,
      "outputs": []
    },
    {
      "cell_type": "code",
      "source": [],
      "metadata": {
        "id": "PtofmVQwybGN"
      },
      "execution_count": null,
      "outputs": []
    },
    {
      "cell_type": "code",
      "source": [],
      "metadata": {
        "id": "QrmcGoW1ybDb"
      },
      "execution_count": null,
      "outputs": []
    },
    {
      "cell_type": "code",
      "source": [],
      "metadata": {
        "id": "_Bb7E-vjybA9"
      },
      "execution_count": null,
      "outputs": []
    },
    {
      "cell_type": "code",
      "source": [],
      "metadata": {
        "id": "Afwhodnbya_n"
      },
      "execution_count": null,
      "outputs": []
    },
    {
      "cell_type": "code",
      "source": [],
      "metadata": {
        "id": "7dfCq8VKya9P"
      },
      "execution_count": null,
      "outputs": []
    },
    {
      "cell_type": "code",
      "source": [],
      "metadata": {
        "id": "wz6bhoK6ya7A"
      },
      "execution_count": null,
      "outputs": []
    },
    {
      "cell_type": "code",
      "source": [],
      "metadata": {
        "id": "_wlxtMmEya3J"
      },
      "execution_count": null,
      "outputs": []
    },
    {
      "cell_type": "code",
      "source": [],
      "metadata": {
        "id": "3IQTgKuqya04"
      },
      "execution_count": null,
      "outputs": []
    },
    {
      "cell_type": "code",
      "source": [],
      "metadata": {
        "id": "XpvR2wvjyayy"
      },
      "execution_count": null,
      "outputs": []
    },
    {
      "cell_type": "code",
      "source": [],
      "metadata": {
        "id": "8H81VdjlyawB"
      },
      "execution_count": null,
      "outputs": []
    },
    {
      "cell_type": "code",
      "execution_count": null,
      "metadata": {
        "id": "WVaMfCbwyRXl"
      },
      "outputs": [],
      "source": []
    }
  ]
}