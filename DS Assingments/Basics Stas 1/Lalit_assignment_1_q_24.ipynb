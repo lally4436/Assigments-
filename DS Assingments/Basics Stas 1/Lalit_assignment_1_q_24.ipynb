{
  "nbformat": 4,
  "nbformat_minor": 0,
  "metadata": {
    "colab": {
      "provenance": []
    },
    "kernelspec": {
      "name": "python3",
      "display_name": "Python 3"
    },
    "language_info": {
      "name": "python"
    }
  },
  "cells": [
    {
      "cell_type": "code",
      "execution_count": null,
      "metadata": {
        "id": "PhZdWD21thqk"
      },
      "outputs": [],
      "source": [
        "import pandas as pd\n",
        "import numpy as np\n",
        "from scipy import stats"
      ]
    },
    {
      "cell_type": "code",
      "source": [
        "## Assume that Null Hyphothesis is Ho >= 260\n",
        "## Assume that Alternate hyphothesis Ha < 260"
      ],
      "metadata": {
        "id": "kyag_MxBt3U3"
      },
      "execution_count": null,
      "outputs": []
    },
    {
      "cell_type": "code",
      "source": [
        "#Formula for t scores is x= 260,\n",
        "# t=(s_mean-p_mean)/(s_sd/sqrt(n))\n",
        "t=(260-270)/(90/18**0.5)\n",
        "print(t)"
      ],
      "metadata": {
        "colab": {
          "base_uri": "https://localhost:8080/"
        },
        "id": "CVUJudlct6w5",
        "outputId": "a7f7f0bd-8506-40ac-d489-de4fdee0850e"
      },
      "execution_count": null,
      "outputs": [
        {
          "output_type": "stream",
          "name": "stdout",
          "text": [
            "-0.4714045207910317\n"
          ]
        }
      ]
    },
    {
      "cell_type": "code",
      "source": [
        "# find P(X>=260) for null hyphothesis\n",
        "p_value=1-stats.t.cdf(abs(-0.4714),df=17)\n",
        "p_value"
      ],
      "metadata": {
        "id": "4hbo-zYPuCod",
        "outputId": "ce6309e1-b09e-4bf5-bd19-0e07575e826a",
        "colab": {
          "base_uri": "https://localhost:8080/"
        }
      },
      "execution_count": null,
      "outputs": [
        {
          "output_type": "execute_result",
          "data": {
            "text/plain": [
              "0.32167411684460556"
            ]
          },
          "metadata": {},
          "execution_count": 4
        }
      ]
    }
  ]
}