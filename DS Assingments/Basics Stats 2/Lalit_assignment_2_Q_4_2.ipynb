{
  "nbformat": 4,
  "nbformat_minor": 0,
  "metadata": {
    "colab": {
      "provenance": []
    },
    "kernelspec": {
      "name": "python3",
      "display_name": "Python 3"
    },
    "language_info": {
      "name": "python"
    }
  },
  "cells": [
    {
      "cell_type": "code",
      "execution_count": null,
      "metadata": {
        "id": "kCOnIs_sZh3r"
      },
      "outputs": [],
      "source": [
        "import pandas as pd\n",
        "import numpy as np\n",
        "import scipy.stats as stats"
      ]
    },
    {
      "cell_type": "code",
      "source": [
        "x=45\n",
        "std=40\n",
        "mean=50"
      ],
      "metadata": {
        "id": "oKTuxGFtZw8D"
      },
      "execution_count": null,
      "outputs": []
    },
    {
      "cell_type": "code",
      "source": [
        "# t-value = (x-mean)/(sample_std/n**0.5)\n",
        "t = np.round(stats.t.ppf(0.025, df = 249),2)\n",
        "t"
      ],
      "metadata": {
        "colab": {
          "base_uri": "https://localhost:8080/"
        },
        "id": "6BHRLaILZ15N",
        "outputId": "e1c52eb0-d3b7-4c08-f026-099d5962d140"
      },
      "execution_count": null,
      "outputs": [
        {
          "output_type": "execute_result",
          "data": {
            "text/plain": [
              "-1.97"
            ]
          },
          "metadata": {},
          "execution_count": 3
        }
      ]
    },
    {
      "cell_type": "code",
      "source": [
        "# n = (sample_standard_deviation*tscore)/(sample_mean=population_mean)\n",
        "n = ((std*abs(t)) / (5))**2\n",
        "n"
      ],
      "metadata": {
        "colab": {
          "base_uri": "https://localhost:8080/"
        },
        "id": "v_NDYn_XZ9Fp",
        "outputId": "6eb6dd54-cb13-449d-a1d8-e11343d5a0e7"
      },
      "execution_count": null,
      "outputs": [
        {
          "output_type": "execute_result",
          "data": {
            "text/plain": [
              "248.3776"
            ]
          },
          "metadata": {},
          "execution_count": 4
        }
      ]
    },
    {
      "cell_type": "code",
      "source": [
        "df= n-1\n",
        "print(n,df)"
      ],
      "metadata": {
        "colab": {
          "base_uri": "https://localhost:8080/"
        },
        "id": "xz_ZHeoMaE9M",
        "outputId": "683c60f0-7191-46a8-96de-a9005d597b71"
      },
      "execution_count": null,
      "outputs": [
        {
          "output_type": "stream",
          "name": "stdout",
          "text": [
            "248.3776 247.3776\n"
          ]
        }
      ]
    },
    {
      "cell_type": "markdown",
      "source": [
        "hence,if the auditors would like to maintain the probability of investigation to 5% then they should sample 248 transactions."
      ],
      "metadata": {
        "id": "R5vQEspoaTca"
      }
    }
  ]
}
