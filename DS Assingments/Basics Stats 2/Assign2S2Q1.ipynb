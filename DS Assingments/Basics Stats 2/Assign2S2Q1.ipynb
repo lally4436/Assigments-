{
  "nbformat": 4,
  "nbformat_minor": 0,
  "metadata": {
    "colab": {
      "provenance": []
    },
    "kernelspec": {
      "name": "python3",
      "display_name": "Python 3"
    },
    "language_info": {
      "name": "python"
    }
  },
  "cells": [
    {
      "cell_type": "code",
      "execution_count": null,
      "metadata": {
        "id": "Vz3KKmBju_WI"
      },
      "outputs": [],
      "source": [
        "from scipy import stats\n",
        "import numpy as np"
      ]
    },
    {
      "cell_type": "code",
      "source": [
        "# Find Z-Scores at X=50; Z = (X - µ) / σ\n",
        "Z=(50-45)/8\n",
        "Z"
      ],
      "metadata": {
        "colab": {
          "base_uri": "https://localhost:8080/"
        },
        "id": "hXu5RSqwvKN9",
        "outputId": "16c406e0-7379-471c-869a-8a4e82d005e7"
      },
      "execution_count": null,
      "outputs": [
        {
          "output_type": "execute_result",
          "data": {
            "text/plain": [
              "0.625"
            ]
          },
          "metadata": {},
          "execution_count": 2
        }
      ]
    },
    {
      "cell_type": "code",
      "source": [
        "# Find probability P(X>50) = 1-stats.norm.cdf(abs(z_score))\n",
        "1-stats.norm.cdf(abs(0.625))"
      ],
      "metadata": {
        "colab": {
          "base_uri": "https://localhost:8080/"
        },
        "id": "YnK8u4OGvN9y",
        "outputId": "356eb9e8-0bc3-4234-bdc6-f93445c6bcf8"
      },
      "execution_count": null,
      "outputs": [
        {
          "output_type": "execute_result",
          "data": {
            "text/plain": [
              "0.26598552904870054"
            ]
          },
          "metadata": {},
          "execution_count": 3
        }
      ]
    },
    {
      "cell_type": "code",
      "source": [
        "# OR\n",
        "# Find probability P(X<=50); p_value=stats.norm.cdf(abs(z_score))\n",
        "p_value=stats.norm.cdf(abs(0.625))\n",
        "p_value"
      ],
      "metadata": {
        "colab": {
          "base_uri": "https://localhost:8080/"
        },
        "id": "zLNmnBI6vRj5",
        "outputId": "233db33c-d10c-4128-a366-7b92d414b3af"
      },
      "execution_count": null,
      "outputs": [
        {
          "output_type": "execute_result",
          "data": {
            "text/plain": [
              "0.7340144709512995"
            ]
          },
          "metadata": {},
          "execution_count": 4
        }
      ]
    },
    {
      "cell_type": "code",
      "source": [
        "# P(X>50) = 1 - P(X<=50)\n",
        "1-0.734"
      ],
      "metadata": {
        "colab": {
          "base_uri": "https://localhost:8080/"
        },
        "id": "MqsE2ci0vVoN",
        "outputId": "01f73524-18e9-4787-d30c-d0cc7686b184"
      },
      "execution_count": null,
      "outputs": [
        {
          "output_type": "execute_result",
          "data": {
            "text/plain": [
              "0.266"
            ]
          },
          "metadata": {},
          "execution_count": 5
        }
      ]
    },
    {
      "cell_type": "code",
      "source": [
        "# OR\n",
        "mew = 55\n",
        "std = 8\n",
        "q1 = stats.norm.sf(60, loc = mew, scale = std)\n",
        "print(\"\"\"The probability that the service manager cannot meet his\n",
        "      commitment is\"\"\",np.round(q1,5))"
      ],
      "metadata": {
        "id": "SFsG7vt8vbw-",
        "colab": {
          "base_uri": "https://localhost:8080/"
        },
        "outputId": "b275bb2b-edd3-4010-e412-e60abe5db1db"
      },
      "execution_count": null,
      "outputs": [
        {
          "output_type": "stream",
          "name": "stdout",
          "text": [
            "The probability that the service manager cannot meet his \n",
            "      commitment is 0.26599\n"
          ]
        }
      ]
    },
    {
      "cell_type": "code",
      "source": [],
      "metadata": {
        "id": "dBB2GW_woW5-"
      },
      "execution_count": null,
      "outputs": []
    }
  ]
}