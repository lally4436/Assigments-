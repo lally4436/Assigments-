{
  "nbformat": 4,
  "nbformat_minor": 0,
  "metadata": {
    "colab": {
      "provenance": []
    },
    "kernelspec": {
      "name": "python3",
      "display_name": "Python 3"
    },
    "language_info": {
      "name": "python"
    }
  },
  "cells": [
    {
      "cell_type": "code",
      "execution_count": null,
      "metadata": {
        "id": "QPtLq860vLQU"
      },
      "outputs": [],
      "source": [
        "from scipy import stats\n",
        "import numpy as np"
      ]
    },
    {
      "cell_type": "code",
      "source": [
        "# Find Z-Scores at X=50; Z = (X - µ) / σ\n",
        "Z=(50-45)/8\n",
        "Z"
      ],
      "metadata": {
        "colab": {
          "base_uri": "https://localhost:8080/"
        },
        "id": "g27GaQXuvWer",
        "outputId": "323d683d-be74-4caa-d8da-35fcf24352cc"
      },
      "execution_count": null,
      "outputs": [
        {
          "output_type": "execute_result",
          "data": {
            "text/plain": [
              "0.625"
            ]
          },
          "metadata": {},
          "execution_count": 2
        }
      ]
    },
    {
      "cell_type": "code",
      "source": [
        "# Find probability P(X>50) = 1-stats.norm.cdf(abs(z_score))\n",
        "1-stats.norm.cdf(abs(0.625))"
      ],
      "metadata": {
        "colab": {
          "base_uri": "https://localhost:8080/"
        },
        "id": "Q3C8ypQ6v152",
        "outputId": "7a7f37f0-496d-4d86-fa5e-116201041b48"
      },
      "execution_count": null,
      "outputs": [
        {
          "output_type": "execute_result",
          "data": {
            "text/plain": [
              "0.26598552904870054"
            ]
          },
          "metadata": {},
          "execution_count": 3
        }
      ]
    },
    {
      "cell_type": "code",
      "source": [
        "# OR\n",
        "# Find probability P(X<=50); p_value=stats.norm.cdf(abs(z_score))\n",
        "p_value=stats.norm.cdf(abs(0.625))\n",
        "p_value"
      ],
      "metadata": {
        "colab": {
          "base_uri": "https://localhost:8080/"
        },
        "id": "s0WGg8Hgv4iQ",
        "outputId": "982b8787-e430-4733-952e-13483a6a0592"
      },
      "execution_count": null,
      "outputs": [
        {
          "output_type": "execute_result",
          "data": {
            "text/plain": [
              "0.7340144709512995"
            ]
          },
          "metadata": {},
          "execution_count": 4
        }
      ]
    },
    {
      "cell_type": "code",
      "source": [
        "# P(X>50) = 1 - P(X<=50)\n",
        "1-0.734"
      ],
      "metadata": {
        "colab": {
          "base_uri": "https://localhost:8080/"
        },
        "id": "uby7nX2kv93S",
        "outputId": "480aea61-3359-4c42-e150-468a65d7206c"
      },
      "execution_count": null,
      "outputs": [
        {
          "output_type": "execute_result",
          "data": {
            "text/plain": [
              "0.266"
            ]
          },
          "metadata": {},
          "execution_count": 5
        }
      ]
    },
    {
      "cell_type": "code",
      "source": [
        "# OR\n",
        "mew = 55\n",
        "std = 8\n",
        "q1 = stats.norm.sf(60, loc = mew, scale = std)\n",
        "print(\"\"\"The probability that the service manager cannot meet his\n",
        "      commitment is\"\"\",np.round(q1,5))"
      ],
      "metadata": {
        "colab": {
          "base_uri": "https://localhost:8080/"
        },
        "id": "OLhfa2gAwGq4",
        "outputId": "2fc60d5a-f312-4ba0-b418-f1dbb90c88f7"
      },
      "execution_count": null,
      "outputs": [
        {
          "output_type": "stream",
          "name": "stdout",
          "text": [
            "The probability that the service manager cannot meet his \n",
            "      commitment is 0.26599\n"
          ]
        }
      ]
    }
  ]
}