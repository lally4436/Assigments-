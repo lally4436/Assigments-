{
  "nbformat": 4,
  "nbformat_minor": 0,
  "metadata": {
    "colab": {
      "provenance": []
    },
    "kernelspec": {
      "name": "python3",
      "display_name": "Python 3"
    },
    "language_info": {
      "name": "python"
    }
  },
  "cells": [
    {
      "cell_type": "code",
      "source": [
        "import pandas as pd\n",
        "from scipy import stats\n",
        "\n",
        "# Load the data\n",
        "cutlets_data = pd.read_csv(\"/content/Cutlets.csv\")"
      ],
      "metadata": {
        "id": "DtfQEnvvnRbM"
      },
      "execution_count": 1,
      "outputs": []
    },
    {
      "cell_type": "code",
      "source": [
        "# Display the data\n",
        "print(\"Data:\")\n",
        "print(cutlets_data.head())"
      ],
      "metadata": {
        "colab": {
          "base_uri": "https://localhost:8080/"
        },
        "id": "g4yudVB5nRU-",
        "outputId": "d684c187-3a33-4180-fb8e-eb3b6305d067"
      },
      "execution_count": 2,
      "outputs": [
        {
          "output_type": "stream",
          "name": "stdout",
          "text": [
            "Data:\n",
            "   Unit A  Unit B\n",
            "0  6.8090  6.7703\n",
            "1  6.4376  7.5093\n",
            "2  6.9157  6.7300\n",
            "3  7.3012  6.7878\n",
            "4  7.4488  7.1522\n"
          ]
        }
      ]
    },
    {
      "cell_type": "code",
      "source": [
        "from scipy import stats\n",
        "\n",
        "# Shapiro-Wilk test for normality\n",
        "stat, p = stats.shapiro(cutlets_data['Unit A'])\n",
        "print(\"Unit A - Statistics=%.3f, p=%.3f\" % (stat, p))"
      ],
      "metadata": {
        "colab": {
          "base_uri": "https://localhost:8080/"
        },
        "id": "7-Tr2IOdnRPR",
        "outputId": "4eabf8f9-9238-4458-b98d-e639ac128715"
      },
      "execution_count": 3,
      "outputs": [
        {
          "output_type": "stream",
          "name": "stdout",
          "text": [
            "Unit A - Statistics=0.965, p=0.320\n"
          ]
        }
      ]
    },
    {
      "cell_type": "code",
      "source": [
        "stat, p = stats.shapiro(cutlets_data['Unit B'])\n",
        "print(\"Unit B - Statistics=%.3f, p=%.3f\" % (stat, p))"
      ],
      "metadata": {
        "colab": {
          "base_uri": "https://localhost:8080/"
        },
        "id": "8EfBrjbPnRJh",
        "outputId": "fdc4177e-6057-4f78-ad18-93b3499452cf"
      },
      "execution_count": 4,
      "outputs": [
        {
          "output_type": "stream",
          "name": "stdout",
          "text": [
            "Unit B - Statistics=0.973, p=0.523\n"
          ]
        }
      ]
    },
    {
      "cell_type": "code",
      "source": [
        "# Levene's test for homogeneity of variances\n",
        "stat, p = stats.levene(cutlets_data['Unit A'], cutlets_data['Unit B'])\n",
        "print(\"Statistics=%.3f, p=%.3f\" % (stat, p))\n"
      ],
      "metadata": {
        "colab": {
          "base_uri": "https://localhost:8080/"
        },
        "id": "wbUAPVM1nRED",
        "outputId": "6e61e560-5611-408c-fce8-401ecb73c989"
      },
      "execution_count": 5,
      "outputs": [
        {
          "output_type": "stream",
          "name": "stdout",
          "text": [
            "Statistics=0.665, p=0.418\n"
          ]
        }
      ]
    },
    {
      "cell_type": "code",
      "source": [
        "# Conduct independent two-sample t-test\n",
        "t_statistic, p_value = stats.ttest_ind(cutlets_data['Unit A'], cutlets_data['Unit B'])\n",
        "print(\"t-statistic=%.3f, p-value=%.3f\" % (t_statistic, p_value))\n"
      ],
      "metadata": {
        "colab": {
          "base_uri": "https://localhost:8080/"
        },
        "id": "sejqjT5bnRAa",
        "outputId": "4c22cc7a-5e78-4b7b-f6a6-d8cbcea5c257"
      },
      "execution_count": 6,
      "outputs": [
        {
          "output_type": "stream",
          "name": "stdout",
          "text": [
            "t-statistic=0.723, p-value=0.472\n"
          ]
        }
      ]
    },
    {
      "cell_type": "code",
      "source": [
        "alpha = 0.05\n",
        "if p_value < alpha:\n",
        "    print(\"\\nReject the null hypothesis. There is a significant difference in the mean diameter of cutlets between the two units.\")\n",
        "else:\n",
        "    print(\"\\nFail to reject the null hypothesis. There is no significant difference in the mean diameter of cutlets between the two units.\")\n"
      ],
      "metadata": {
        "colab": {
          "base_uri": "https://localhost:8080/"
        },
        "id": "wqyLboM_nQ7O",
        "outputId": "d37531e2-4065-47de-b881-10f47d6c8034"
      },
      "execution_count": 7,
      "outputs": [
        {
          "output_type": "stream",
          "name": "stdout",
          "text": [
            "\n",
            "Fail to reject the null hypothesis. There is no significant difference in the mean diameter of cutlets between the two units.\n"
          ]
        }
      ]
    },
    {
      "cell_type": "code",
      "source": [
        "import pandas as pd\n",
        "\n",
        "# Load the data\n",
        "labtat_data = pd.read_csv(\"/content/LabTAT.csv\")\n",
        "\n",
        "# Display the data\n",
        "print(\"Data:\")\n",
        "print(labtat_data.head())\n"
      ],
      "metadata": {
        "colab": {
          "base_uri": "https://localhost:8080/"
        },
        "id": "jexNORtSZCSx",
        "outputId": "d13d14cb-011e-453d-8ee2-27c7b8f2588d"
      },
      "execution_count": 8,
      "outputs": [
        {
          "output_type": "stream",
          "name": "stdout",
          "text": [
            "Data:\n",
            "   Laboratory 1  Laboratory 2  Laboratory 3  Laboratory 4\n",
            "0        185.35        165.53        176.70        166.13\n",
            "1        170.49        185.91        198.45        160.79\n",
            "2        192.77        194.92        201.23        185.18\n",
            "3        177.33        183.00        199.61        176.42\n",
            "4        193.41        169.57        204.63        152.60\n"
          ]
        }
      ]
    },
    {
      "cell_type": "code",
      "source": [
        "import seaborn as sns\n",
        "import matplotlib.pyplot as plt\n",
        "\n",
        "# Boxplot to visualize TAT distribution across laboratories\n",
        "sns.boxplot(data=labtat_data)\n",
        "plt.title('Turn Around Time (TAT) Distribution Across Laboratories')\n",
        "plt.xlabel('Laboratories')\n",
        "plt.ylabel('Turn Around Time (TAT)')\n",
        "plt.show()\n"
      ],
      "metadata": {
        "colab": {
          "base_uri": "https://localhost:8080/",
          "height": 472
        },
        "id": "S1NMsLuaZCQL",
        "outputId": "ef513ffd-a304-4b83-bdcf-c46474e7a851"
      },
      "execution_count": 9,
      "outputs": [
        {
          "output_type": "display_data",
          "data": {
            "text/plain": [
              "<Figure size 640x480 with 1 Axes>"
            ],
            "image/png": "[encoded data removed]"
          },
          "metadata": {}
        }
      ]
    },
    {
      "cell_type": "code",
      "source": [
        "from scipy import stats\n",
        "\n",
        "# Shapiro-Wilk test for normality\n",
        "for lab in labtat_data.columns:\n",
        "    stat, p = stats.shapiro(labtat_data[lab])\n",
        "    print(f\"{lab}: Statistics={stat:.3f}, p={p:.3f}\")\n"
      ],
      "metadata": {
        "colab": {
          "base_uri": "https://localhost:8080/"
        },
        "id": "xa3i3k-wED8J",
        "outputId": "cdafa280-c270-45ae-f9a1-203a47ee12c2"
      },
      "execution_count": 10,
      "outputs": [
        {
          "output_type": "stream",
          "name": "stdout",
          "text": [
            "Laboratory 1: Statistics=0.990, p=0.551\n",
            "Laboratory 2: Statistics=0.994, p=0.864\n",
            "Laboratory 3: Statistics=0.989, p=0.420\n",
            "Laboratory 4: Statistics=0.991, p=0.662\n"
          ]
        }
      ]
    },
    {
      "cell_type": "code",
      "source": [
        "# One-way ANOVA test\n",
        "stat, p = stats.f_oneway(labtat_data['Laboratory 1'], labtat_data['Laboratory 2'], labtat_data['Laboratory 3'], labtat_data['Laboratory 4'])\n",
        "print(\"ANOVA Test:\")\n",
        "print(\"F-statistic=%.3f, p-value=%.3f\" % (stat, p))\n"
      ],
      "metadata": {
        "colab": {
          "base_uri": "https://localhost:8080/"
        },
        "id": "_rwRmHPjED4x",
        "outputId": "7d370b6b-aa81-4fb6-8e2e-d7436a9f6713"
      },
      "execution_count": 11,
      "outputs": [
        {
          "output_type": "stream",
          "name": "stdout",
          "text": [
            "ANOVA Test:\n",
            "F-statistic=118.704, p-value=0.000\n"
          ]
        }
      ]
    },
    {
      "cell_type": "code",
      "source": [
        "alpha = 0.05\n",
        "if p < alpha:\n",
        "    print(\"\\nReject the null hypothesis. There is a significant difference in the average TAT among the different laboratories.\")\n",
        "else:\n",
        "    print(\"\\nFail to reject the null hypothesis. There is no significant difference in the average TAT among the different laboratories.\")\n"
      ],
      "metadata": {
        "colab": {
          "base_uri": "https://localhost:8080/"
        },
        "id": "DjF23h1hED2x",
        "outputId": "20b213c2-6497-4fbd-eafe-4a7c8ead275d"
      },
      "execution_count": 12,
      "outputs": [
        {
          "output_type": "stream",
          "name": "stdout",
          "text": [
            "\n",
            "Reject the null hypothesis. There is a significant difference in the average TAT among the different laboratories.\n"
          ]
        }
      ]
    },
    {
      "cell_type": "code",
      "source": [
        "import pandas as pd\n",
        "\n",
        "# Load the data\n",
        "buyer_ratio_data = pd.read_csv(\"/content/BuyerRatio.csv\")\n",
        "\n",
        "# Display the data\n",
        "print(\"Data:\")\n",
        "print(buyer_ratio_data)\n"
      ],
      "metadata": {
        "colab": {
          "base_uri": "https://localhost:8080/"
        },
        "id": "M1K-WmTwEDxd",
        "outputId": "1daed171-5339-4770-f71c-6eba11961580"
      },
      "execution_count": 13,
      "outputs": [
        {
          "output_type": "stream",
          "name": "stdout",
          "text": [
            "Data:\n",
            "  Observed Values  East  West  North  South\n",
            "0           Males    50   142    131     70\n",
            "1         Females   435  1523   1356    750\n"
          ]
        }
      ]
    },
    {
      "cell_type": "code",
      "source": [
        "from scipy import stats\n",
        "\n",
        "# Chi-square test of independence\n",
        "chi2_stat, p_val, dof, expected = stats.chi2_contingency(buyer_ratio_data.iloc[:, 1:])\n",
        "\n",
        "print(\"\\nChi-square Test Results:\")\n",
        "print(\"Chi-square Statistic=%.3f, p-value=%.3f\" % (chi2_stat, p_val))\n"
      ],
      "metadata": {
        "colab": {
          "base_uri": "https://localhost:8080/"
        },
        "id": "HhgvIWMZEDvs",
        "outputId": "c2b7d82f-7954-4345-e513-a1233ae1a3ad"
      },
      "execution_count": 14,
      "outputs": [
        {
          "output_type": "stream",
          "name": "stdout",
          "text": [
            "\n",
            "Chi-square Test Results:\n",
            "Chi-square Statistic=1.596, p-value=0.660\n"
          ]
        }
      ]
    },
    {
      "cell_type": "code",
      "source": [
        "alpha = 0.05\n",
        "if p_val < alpha:\n",
        "    print(\"\\nReject the null hypothesis. Not all proportions are equal across regions.\")\n",
        "else:\n",
        "    print(\"\\nFail to reject the null hypothesis. All proportions are equal across regions.\")\n"
      ],
      "metadata": {
        "colab": {
          "base_uri": "https://localhost:8080/"
        },
        "id": "28UvqNU_EDtT",
        "outputId": "4f62d19c-2c6f-434d-b16d-1c8d7a9c71d8"
      },
      "execution_count": 15,
      "outputs": [
        {
          "output_type": "stream",
          "name": "stdout",
          "text": [
            "\n",
            "Fail to reject the null hypothesis. All proportions are equal across regions.\n"
          ]
        }
      ]
    },
    {
      "cell_type": "code",
      "source": [],
      "metadata": {
        "id": "vO0HNlRlFs9o"
      },
      "execution_count": null,
      "outputs": []
    },
    {
      "cell_type": "code",
      "source": [],
      "metadata": {
        "id": "uZKUTrkRFs8P"
      },
      "execution_count": null,
      "outputs": []
    },
    {
      "cell_type": "code",
      "source": [],
      "metadata": {
        "id": "u86iPi8uFs6g"
      },
      "execution_count": null,
      "outputs": []
    },
    {
      "cell_type": "code",
      "source": [],
      "metadata": {
        "id": "T06ajuAGFs4L"
      },
      "execution_count": null,
      "outputs": []
    },
    {
      "cell_type": "code",
      "source": [],
      "metadata": {
        "id": "gtCcgEKuFs10"
      },
      "execution_count": null,
      "outputs": []
    },
    {
      "cell_type": "code",
      "source": [],
      "metadata": {
        "id": "vsSGvY4kFsze"
      },
      "execution_count": null,
      "outputs": []
    },
    {
      "cell_type": "code",
      "source": [],
      "metadata": {
        "id": "uBADcgw1Fsxt"
      },
      "execution_count": null,
      "outputs": []
    },
    {
      "cell_type": "code",
      "source": [],
      "metadata": {
        "id": "rBLACmaIFsvz"
      },
      "execution_count": null,
      "outputs": []
    },
    {
      "cell_type": "code",
      "source": [],
      "metadata": {
        "id": "fs_j4YT2Fstl"
      },
      "execution_count": null,
      "outputs": []
    }
  ]
}